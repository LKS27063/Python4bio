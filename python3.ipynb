{
  "nbformat": 4,
  "nbformat_minor": 0,
  "metadata": {
    "colab": {
      "provenance": [],
      "authorship_tag": "ABX9TyOYkmTzjgmWRakWGvoLs/xZ",
      "include_colab_link": true
    },
    "kernelspec": {
      "name": "python3",
      "display_name": "Python 3"
    },
    "language_info": {
      "name": "python"
    }
  },
  "cells": [
    {
      "cell_type": "markdown",
      "metadata": {
        "id": "view-in-github",
        "colab_type": "text"
      },
      "source": [
        "<a href=\"https://colab.research.google.com/github/LKS27063/Python4bio/blob/main/python3.ipynb\" target=\"_parent\"><img src=\"https://colab.research.google.com/assets/colab-badge.svg\" alt=\"Open In Colab\"/></a>"
      ]
    },
    {
      "cell_type": "code",
      "execution_count": 1,
      "metadata": {
        "colab": {
          "base_uri": "https://localhost:8080/"
        },
        "id": "OVDqt7uv1kug",
        "outputId": "2fd6c179-d315-4b9f-8c78-61c6fe5c6071"
      },
      "outputs": [
        {
          "output_type": "stream",
          "name": "stdout",
          "text": [
            "hello eorld\n"
          ]
        }
      ],
      "source": [
        "print(\"hello eorld\")"
      ]
    },
    {
      "cell_type": "code",
      "source": [
        "my_dna= \"ATGC\"\n",
        "#PRINT TGE VARIABLE\n",
        "print(\"before:\" + my_dna)\n",
        "\n",
        "#running the lower method and obtaining results\n",
        "lowercase_dna= my_dna.lower()\n",
        "\n",
        "#printing the variable again\n",
        "print(\"after:\"+ lowercase_dna )"
      ],
      "metadata": {
        "colab": {
          "base_uri": "https://localhost:8080/"
        },
        "id": "9wo4t1hz1pqP",
        "outputId": "1dbe08d3-eaba-4484-e1b1-b89d75ee49dc"
      },
      "execution_count": 3,
      "outputs": [
        {
          "output_type": "stream",
          "name": "stdout",
          "text": [
            "before:ATGC\n",
            "after:atgc\n"
          ]
        }
      ]
    },
    {
      "cell_type": "code",
      "source": [
        "my_dna=\"ATGCGAGT\"\n",
        "dna_length=len(my_dna)\n",
        "print(\"the length of the dna sequence is \" + str(dna_length))"
      ],
      "metadata": {
        "colab": {
          "base_uri": "https://localhost:8080/"
        },
        "id": "ixhg6Fxr3YMP",
        "outputId": "a9ffce85-3957-4c96-ac5c-33ae216f7efd"
      },
      "execution_count": 6,
      "outputs": [
        {
          "output_type": "stream",
          "name": "stdout",
          "text": [
            "the length of the dna sequence is 8\n"
          ]
        }
      ]
    },
    {
      "cell_type": "code",
      "source": [],
      "metadata": {
        "id": "J7egvzfr4HgY"
      },
      "execution_count": null,
      "outputs": []
    }
  ]
}